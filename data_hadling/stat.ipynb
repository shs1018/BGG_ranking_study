{
 "cells": [
  {
   "cell_type": "code",
   "execution_count": 1,
   "metadata": {},
   "outputs": [],
   "source": [
    "import pandas as pd\n",
    "import numpy as np\n",
    "import seaborn as sns\n",
    "import matplotlib.pyplot as plt\n",
    "from sklearn.linear_model import LinearRegression"
   ]
  },
  {
   "cell_type": "code",
   "execution_count": 2,
   "metadata": {},
   "outputs": [
    {
     "name": "stdout",
     "output_type": "stream",
     "text": [
      "<class 'pandas.core.frame.DataFrame'>\n",
      "Index: 1000 entries, 1 to 1000\n",
      "Data columns (total 15 columns):\n",
      " #   Column          Non-Null Count  Dtype  \n",
      "---  ------          --------------  -----  \n",
      " 0   name            1000 non-null   object \n",
      " 1   published_year  1000 non-null   object \n",
      " 2   avg_rating      1000 non-null   float64\n",
      " 3   recc_age        1000 non-null   object \n",
      " 4   weight          1000 non-null   float64\n",
      " 5   game_type       1000 non-null   object \n",
      " 6   mech_1          1000 non-null   object \n",
      " 7   mech_2          992 non-null    object \n",
      " 8   mech_3          947 non-null    object \n",
      " 9   mech_4          865 non-null    object \n",
      " 10  mech_5          757 non-null    object \n",
      " 11  min_player      1000 non-null   int64  \n",
      " 12  max_player      1000 non-null   int64  \n",
      " 13  min_playtime    1000 non-null   int64  \n",
      " 14  max_playtime    1000 non-null   int64  \n",
      "dtypes: float64(2), int64(4), object(9)\n",
      "memory usage: 125.0+ KB\n"
     ]
    }
   ],
   "source": [
    "# BGG boardgame ranking data, till 2023\n",
    "data = pd.read_csv('../raw_data/BGG_data.csv', parse_dates=['published_year'] ,index_col='rank')\n",
    "data.info()"
   ]
  },
  {
   "cell_type": "code",
   "execution_count": 11,
   "metadata": {},
   "outputs": [
    {
     "data": {
      "text/html": [
       "<div>\n",
       "<style scoped>\n",
       "    .dataframe tbody tr th:only-of-type {\n",
       "        vertical-align: middle;\n",
       "    }\n",
       "\n",
       "    .dataframe tbody tr th {\n",
       "        vertical-align: top;\n",
       "    }\n",
       "\n",
       "    .dataframe thead th {\n",
       "        text-align: right;\n",
       "    }\n",
       "</style>\n",
       "<table border=\"1\" class=\"dataframe\">\n",
       "  <thead>\n",
       "    <tr style=\"text-align: right;\">\n",
       "      <th></th>\n",
       "      <th>avg_rating</th>\n",
       "      <th>weight</th>\n",
       "      <th>min_player</th>\n",
       "      <th>max_player</th>\n",
       "      <th>min_playtime</th>\n",
       "      <th>max_playtime</th>\n",
       "    </tr>\n",
       "  </thead>\n",
       "  <tbody>\n",
       "    <tr>\n",
       "      <th>count</th>\n",
       "      <td>1000.000000</td>\n",
       "      <td>1000.000000</td>\n",
       "      <td>1000.000000</td>\n",
       "      <td>1000.000000</td>\n",
       "      <td>1000.000000</td>\n",
       "      <td>1000.000000</td>\n",
       "    </tr>\n",
       "    <tr>\n",
       "      <th>mean</th>\n",
       "      <td>7.559200</td>\n",
       "      <td>2.679390</td>\n",
       "      <td>1.774000</td>\n",
       "      <td>4.945000</td>\n",
       "      <td>60.252000</td>\n",
       "      <td>92.667000</td>\n",
       "    </tr>\n",
       "    <tr>\n",
       "      <th>std</th>\n",
       "      <td>0.392185</td>\n",
       "      <td>0.809749</td>\n",
       "      <td>0.688039</td>\n",
       "      <td>6.267476</td>\n",
       "      <td>44.821529</td>\n",
       "      <td>78.595441</td>\n",
       "    </tr>\n",
       "    <tr>\n",
       "      <th>min</th>\n",
       "      <td>6.800000</td>\n",
       "      <td>1.020000</td>\n",
       "      <td>1.000000</td>\n",
       "      <td>1.000000</td>\n",
       "      <td>5.000000</td>\n",
       "      <td>10.000000</td>\n",
       "    </tr>\n",
       "    <tr>\n",
       "      <th>25%</th>\n",
       "      <td>7.300000</td>\n",
       "      <td>2.110000</td>\n",
       "      <td>1.000000</td>\n",
       "      <td>4.000000</td>\n",
       "      <td>30.000000</td>\n",
       "      <td>45.000000</td>\n",
       "    </tr>\n",
       "    <tr>\n",
       "      <th>50%</th>\n",
       "      <td>7.500000</td>\n",
       "      <td>2.640000</td>\n",
       "      <td>2.000000</td>\n",
       "      <td>4.000000</td>\n",
       "      <td>60.000000</td>\n",
       "      <td>75.000000</td>\n",
       "    </tr>\n",
       "    <tr>\n",
       "      <th>75%</th>\n",
       "      <td>7.800000</td>\n",
       "      <td>3.250000</td>\n",
       "      <td>2.000000</td>\n",
       "      <td>5.000000</td>\n",
       "      <td>70.000000</td>\n",
       "      <td>120.000000</td>\n",
       "    </tr>\n",
       "    <tr>\n",
       "      <th>max</th>\n",
       "      <td>9.100000</td>\n",
       "      <td>4.820000</td>\n",
       "      <td>5.000000</td>\n",
       "      <td>100.000000</td>\n",
       "      <td>480.000000</td>\n",
       "      <td>1200.000000</td>\n",
       "    </tr>\n",
       "  </tbody>\n",
       "</table>\n",
       "</div>"
      ],
      "text/plain": [
       "        avg_rating       weight   min_player   max_player  min_playtime  \\\n",
       "count  1000.000000  1000.000000  1000.000000  1000.000000   1000.000000   \n",
       "mean      7.559200     2.679390     1.774000     4.945000     60.252000   \n",
       "std       0.392185     0.809749     0.688039     6.267476     44.821529   \n",
       "min       6.800000     1.020000     1.000000     1.000000      5.000000   \n",
       "25%       7.300000     2.110000     1.000000     4.000000     30.000000   \n",
       "50%       7.500000     2.640000     2.000000     4.000000     60.000000   \n",
       "75%       7.800000     3.250000     2.000000     5.000000     70.000000   \n",
       "max       9.100000     4.820000     5.000000   100.000000    480.000000   \n",
       "\n",
       "       max_playtime  \n",
       "count   1000.000000  \n",
       "mean      92.667000  \n",
       "std       78.595441  \n",
       "min       10.000000  \n",
       "25%       45.000000  \n",
       "50%       75.000000  \n",
       "75%      120.000000  \n",
       "max     1200.000000  "
      ]
     },
     "execution_count": 11,
     "metadata": {},
     "output_type": "execute_result"
    }
   ],
   "source": [
    "'''\n",
    "EDA - 탐색적 데이터 분석\n",
    "기술통계 및 칼럼별 데이터 시각화, 상관 관계가 있을 듯한 칼럼 위주로 시각화\n",
    "'''\n",
    "data.describe() #기술통계"
   ]
  },
  {
   "cell_type": "code",
   "execution_count": 29,
   "metadata": {},
   "outputs": [
    {
     "ename": "",
     "evalue": "",
     "output_type": "error",
     "traceback": [
      "\u001b[1;31mFailed to start the Kernel 'venv (Python 3.9.7)'. \n",
      "\u001b[1;31mView Jupyter <a href='command:jupyter.viewOutput'>log</a> for further details. listen EFAULT: bad address in system call argument 192.168.56.1:9000"
     ]
    }
   ],
   "source": [
    "data.filter(regex = \"fire\", axis = 0)"
   ]
  }
 ],
 "metadata": {
  "kernelspec": {
   "display_name": "venv",
   "language": "python",
   "name": "python3"
  },
  "language_info": {
   "codemirror_mode": {
    "name": "ipython",
    "version": 3
   },
   "file_extension": ".py",
   "mimetype": "text/x-python",
   "name": "python",
   "nbconvert_exporter": "python",
   "pygments_lexer": "ipython3",
   "version": "3.9.7"
  }
 },
 "nbformat": 4,
 "nbformat_minor": 2
}
