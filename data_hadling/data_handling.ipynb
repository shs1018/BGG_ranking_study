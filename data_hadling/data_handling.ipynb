{
 "cells": [
  {
   "cell_type": "code",
   "execution_count": 1,
   "id": "e8495342",
   "metadata": {},
   "outputs": [
    {
     "ename": "",
     "evalue": "",
     "output_type": "error",
     "traceback": [
      "\u001b[1;31mFailed to start the Kernel 'venv (Python 3.9.7)'. \n",
      "\u001b[1;31mView Jupyter <a href='command:jupyter.viewOutput'>log</a> for further details. listen EFAULT: bad address in system call argument 127.0.0.1:9003"
     ]
    }
   ],
   "source": [
    "import pandas as pd\n",
    "import numpy as np"
   ]
  },
  {
   "cell_type": "code",
   "execution_count": null,
   "id": "7df67b1c",
   "metadata": {},
   "outputs": [],
   "source": [
    "dat = pd.read_csv('../raw_data/bgg_1000_data.csv')\n",
    "\n",
    "dat.columns= ['idx', 'name', 'published_year', 'avg_rating', 'recc_plyr', 'play_time', 'recc_age', 'weight', 'game_type',\n",
    "             'mech_1', 'mech_2', 'mech_3', 'mech_4', 'mech_5']\n",
    "\n",
    "rank = range(1,1001)\n",
    "dat['rank'] = rank"
   ]
  },
  {
   "cell_type": "code",
   "execution_count": 144,
   "id": "ef518ad2",
   "metadata": {},
   "outputs": [],
   "source": [
    "#함수?\n",
    "\n",
    "def dat_handling(data) :\n",
    "    \n",
    "    # 발매 연도 열의 필요없는 소괄호 제거 및 정수화 진행\n",
    "    data['published_year'] = data['published_year'].str.replace(r'\\(|\\)', '', regex=True).astype(int)\n",
    "    \n",
    "    '''\n",
    "    추천 플레이어 열 만들기\n",
    "    각 문자열을 나누어 1col은 min player, 3열은 max player로 나누어 저장한다.\n",
    "    결측치(2인용)의 경우엔 max_player에 None이 저장된다.\n",
    "    '''\n",
    "    \n",
    "    ply_colname = ['min_player', 'max_player']\n",
    "    split_result = data['recc_plyr'].str.split(r'[– ]', expand=True) # 문자열 공백 및 - 기준으로 분리 후 각각의 열로 저장\n",
    "    split_result = split_result.iloc[:, [0,1]] # 그 중 필요한 숫자가 있는 열만 가져온다.\n",
    "\n",
    "    split_result.loc[:,1] = split_result.apply(\n",
    "    lambda row: row[0] if row[1] == \"Players\" else row[1], axis = 1 #각 row[1] 마다 Players이면 이전row인 row[0]로 바꿈\n",
    "        )\n",
    "    split_result.columns = ply_colname\n",
    "    res_data = pd.concat([data, split_result], axis = 1)\n",
    "    \n",
    "    '''\n",
    "    추천 플레이 시간 열 만들기\n",
    "    플레이 시간의 숫자 처리도 동일하게 적용한다.\n",
    "    '''\n",
    "\n",
    "    ply2_colname = ['min_playtime', 'max_playtime']\n",
    "    split_result2 = data['play_time'].str.split(r'[– ]', expand=True) # 문자열 ' ', '–' 기준으로 분리 후 각각의 열로 저장\n",
    "    split_result2 = split_result2.iloc[:, [0,1]] # 분리 결과, 추천 시간대가 한 개인 경우는 최대 시간대가 Min 이 된다.\n",
    "\n",
    "    #그놈의 체스 때문에....\n",
    "    split_result2.iloc[:,0] = split_result2.apply(\n",
    "        lambda row: 60 if row[0] == \"Time:\" else row[0], axis = 1 \n",
    "    )\n",
    "    \n",
    "    #각 row[1] 마다 Players이면 이전row인 row[0]로 바꿈\n",
    "    split_result2.iloc[:,1] = split_result2.apply(\n",
    "        lambda row: row[0] if row[1] == \"\" or row[1] == \"Min\" else row[1], axis = 1 \n",
    "    )\n",
    "    split_result2.columns = ply2_colname\n",
    "    res_data = pd.concat([res_data, split_result2], axis = 1)\n",
    "\n",
    "    '''\n",
    "    recc_age 처리\n",
    "    : 와 +로 문자열을 나누어서 중간에 있는 숫자(1열)만 빼오도록 한다.\n",
    "     '--' 로 추천 나이가 지정되지 않은 행이 존재한다 -> 어떻게 처리?\n",
    "    '''\n",
    "\n",
    "    res_data['recc_age'] = res_data['recc_age'].str.split(r'[:+]', expand = True)[1]\n",
    "    res_data['recc_age'] = res_data['recc_age'].replace(' ––', 14).astype(int)\n",
    "\n",
    "    '''\n",
    "    game_type 처리\n",
    "    , 와 \\으로 나누어 0번째 요소만 주요 게임 타입으로 설정한다.\n",
    "    '''\n",
    "\n",
    "    res_data['game_type'] = res_data['game_type'].str.split(r'[\\n\\,]', expand = True)[0]\n",
    "\n",
    "    '''\n",
    "    #필요없는 열 제거\n",
    "    반복문으로 더 깔끔하게 만들기\n",
    "    '''\n",
    "    del_cols = ['recc_plyr', 'play_time','idx']\n",
    "    for col in del_cols:\n",
    "        res_data.drop(col, axis = 1, inplace = True)\n",
    "\n",
    "    return res_data #완성!"
   ]
  },
  {
   "cell_type": "code",
   "execution_count": null,
   "id": "38751fc5",
   "metadata": {},
   "outputs": [],
   "source": [
    "'''\n",
    "data = dat.copy()\n",
    "\n",
    "ply2_colname = ['min_playtime', 'max_playtime']\n",
    "split_result2 = data['play_time'].str.split(r'[– ]', expand=True) # 문자열 ' ', '–' 기준으로 분리 후 각각의 열로 저장\n",
    "split_result2 = split_result2.iloc[:, [0,1]] # 분리 결과, 추천 시간대가 한 개인 경우는 최대 시간대가 Min 이 된다.\n",
    "\n",
    "split_result2.iloc[:,0] = split_result2.apply(\n",
    "        lambda row: 60 if row[0] == \"Time:\" else row[0], axis = 1 #각 row[1] 마다 Players이면 이전row인 row[0]로 바꿈\n",
    "    )\n",
    "split_result2.iloc[:,1] = split_result2.apply(\n",
    "        lambda row: row[0] if row[1] == \"\" or row[1] == \"Min\" else row[1], axis = 1 #각 row[1] 마다 Players이면 이전row인 row[0]로 바꿈\n",
    "    )\n",
    "\n",
    "split_result2.columns = ply2_colname #칼럼 명 지정\n",
    "\n",
    "print(split_result2.iloc[441])\n",
    "\n",
    "#min_playtime_distribution = split_result2['min_playtime'].value_counts()\n",
    "#print(min_playtime_distribution)\n",
    "'''"
   ]
  },
  {
   "cell_type": "code",
   "execution_count": null,
   "id": "6f39d256",
   "metadata": {},
   "outputs": [],
   "source": [
    "'''\n",
    "# 추천 나이대 str값 오류 해결\n",
    "\n",
    "data = dat.copy()\n",
    "\n",
    "data['recc_age'] = data['recc_age'].str.split(r'[:+]', expand = True)[1]\n",
    "if data[data['recc_age'] == ' ––'] :\n",
    "    data['recc_age'] == \"14\"\n",
    "\n",
    "print(data)\n",
    "'''"
   ]
  },
  {
   "cell_type": "code",
   "execution_count": null,
   "id": "ef0ec4c8",
   "metadata": {},
   "outputs": [],
   "source": [
    "df = dat_handling(dat)\n",
    "df.info()"
   ]
  },
  {
   "cell_type": "code",
   "execution_count": 147,
   "id": "873a2c0c",
   "metadata": {},
   "outputs": [],
   "source": [
    "df.to_csv('../raw_data/BGG_data.csv', index = False)"
   ]
  },
  {
   "cell_type": "code",
   "execution_count": null,
   "id": "f4245273",
   "metadata": {},
   "outputs": [],
   "source": [
    "df.iloc[441]"
   ]
  }
 ],
 "metadata": {
  "kernelspec": {
   "display_name": "Python 3 (ipykernel)",
   "language": "python",
   "name": "python3"
  },
  "language_info": {
   "codemirror_mode": {
    "name": "ipython",
    "version": 3
   },
   "file_extension": ".py",
   "mimetype": "text/x-python",
   "name": "python",
   "nbconvert_exporter": "python",
   "pygments_lexer": "ipython3",
   "version": "3.9.7"
  }
 },
 "nbformat": 4,
 "nbformat_minor": 5
}
