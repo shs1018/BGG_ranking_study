{
 "cells": [
  {
   "cell_type": "code",
   "execution_count": 15,
   "id": "b235ad23",
   "metadata": {},
   "outputs": [],
   "source": [
    "import pandas as pd\n",
    "\n",
    "from lxml import html\n",
    "from bs4 import BeautifulSoup\n",
    "import requests\n",
    "import re\n",
    "\n",
    "import time\n",
    "import json"
   ]
  },
  {
   "cell_type": "code",
   "execution_count": 16,
   "id": "b4cfad3e",
   "metadata": {},
   "outputs": [
    {
     "data": {
      "text/plain": [
       "'c:\\\\Users\\\\campus3S031\\\\Desktop\\\\iMBank\\\\BGG_ranking_study\\\\data_hadling'"
      ]
     },
     "execution_count": 16,
     "metadata": {},
     "output_type": "execute_result"
    }
   ],
   "source": [
    "import os\n",
    "os.getcwd()"
   ]
  },
  {
   "cell_type": "code",
   "execution_count": 17,
   "id": "cea70f9a",
   "metadata": {},
   "outputs": [],
   "source": [
    "# 4장 - 분류에 맞는 데이터 분석 세트 준비 \n",
    "# 설명변수가 여러개의 반응변수에 의해 설명이 되며, 반응변수들로 설명변수를 분류/추정/설명해 낼 수 있어야 한다.\n",
    "\n",
    "page_lst = [1,2,3,4,5,6,7,8,9,10]\n",
    "name_lst = []\n",
    "gr_list = []\n",
    "avgr_list = []\n",
    "numv_list = []\n"
   ]
  },
  {
   "cell_type": "code",
   "execution_count": 18,
   "id": "3da010d5",
   "metadata": {},
   "outputs": [],
   "source": [
    "# 1위 ~ 1000위의 bgg링크를 따오는 코드가 먼저 필요하다\n",
    "# baselink로 메인 링크를 받고 몇 페이지까지 반복할 것인지에 대한 함수를 짜도록 하자\n",
    "# html구조가 동적으로 생성됨 - xpath를 사용해야 한다\n",
    "linklst = []\n",
    "def getLinks(baseLink,tonum):\n",
    "    \n",
    "    for pn in range(1,tonum+1):\n",
    "        url = baseLink+\"/{}\".format(pn)\n",
    "        hdr = {'Accept-Language': 'ko_KR,en;q=0.8', 'User-Agent': ('Mozilla/5.0 (Linux; Android 6.0; Nexus 5 Build/MRA58N) AppleWebKit/537.36 (KHTML, like Gecko) Chrome/78.0.3904.70 Mobile Safari/537.36')}\n",
    "        res = requests.get(url, headers=hdr)\n",
    "        \n",
    "        html = res.text\n",
    "        soup = BeautifulSoup(html,'html.parser')\n",
    "        \n",
    "        bggTag = soup.find_all('a', class_='primary')\n",
    "        \n",
    "        for bg in bggTag:\n",
    "            bggLink = bg['href']\n",
    "            linklst.append(bggLink)\n",
    "    return linklst"
   ]
  },
  {
   "cell_type": "code",
   "execution_count": 19,
   "id": "7c71298e",
   "metadata": {},
   "outputs": [],
   "source": [
    "link_list = getLinks(\"https://boardgamegeek.com/browse/boardgame/page\",10)"
   ]
  },
  {
   "cell_type": "code",
   "execution_count": 28,
   "id": "bc225221",
   "metadata": {},
   "outputs": [],
   "source": [
    "# getLinks로 가져온 링크들로 들어가서 필요한 정보들을 크롤링 한 후 리스트로 만들어서 반환하는 함수\n",
    "# 셀레니움을 써야할듯 싶다. 왜 안나오는지 태그가 안 잡힌다.\n",
    "import selenium\n",
    "from selenium import webdriver\n",
    "from webdriver_manager.chrome import ChromeDriverManager\n",
    "from selenium.webdriver.common.by import By\n",
    "from selenium.webdriver.support.ui import WebDriverWait\n",
    "from selenium.webdriver.support import expected_conditions as EC\n",
    "from selenium.common.exceptions import NoSuchElementException\n",
    "\n",
    "\n",
    "def getInfo(datlist):\n",
    "    all_datlist = []\n",
    "    driver = webdriver.Chrome()\n",
    "    for link in datlist: #각 페이지에 일일히 들어가보게 된다.\n",
    "        driver = webdriver.Chrome()\n",
    "        url = f'https://boardgamegeek.com/{link}'\n",
    "        driver.get(url)\n",
    "        driver.implicitly_wait(2)\n",
    "        \n",
    "        bgg_rank = driver.find_element(By.XPATH, '//*[@id=\"mainbody\"]/div[2]/div/div[1]/div[2]/ng-include/div/ng-include/div/div[2]/div[2]/div[1]/div/div[1]/overall-rating/div/div/a/span[1]').text\n",
    "        name = driver.find_element(By.XPATH, '//*[@id=\"mainbody\"]/div[2]/div/div[1]/div[2]/ng-include/div/ng-include/div/div[2]/div[2]/div[1]/div/div[2]/h1/a').text\n",
    "        published_year = driver.find_element(By.XPATH, '//*[@id=\"mainbody\"]/div[2]/div/div[1]/div[2]/ng-include/div/ng-include/div/div[2]/div[2]/div[1]/div/div[2]/h1/span').text\n",
    "        plyr = driver.find_element(By.XPATH, '//*[@id=\"mainbody\"]/div[2]/div/div[1]/div[2]/ng-include/div/ng-include/div/div[2]/div[2]/div[2]/gameplay-module/div/div/ul/li[1]/div[1]').text\n",
    "        plyt = driver.find_element(By.XPATH, '//*[@id=\"mainbody\"]/div[2]/div/div[1]/div[2]/ng-include/div/ng-include/div/div[2]/div[2]/div[2]/gameplay-module/div/div/ul/li[2]/div[1]').text\n",
    "        recc_age = driver.find_element(By.XPATH, '//*[@id=\"mainbody\"]/div[2]/div/div[1]/div[2]/ng-include/div/ng-include/div/div[2]/div[2]/div[2]/gameplay-module/div/div/ul/li[3]/div[1]').text\n",
    "        weight = driver.find_element(By.XPATH, '//*[@id=\"mainbody\"]/div[2]/div/div[1]/div[2]/ng-include/div/ng-include/div/div[2]/div[2]/div[2]/gameplay-module/div/div/ul/li[4]/div[1]/span[2]/span[1]').text\n",
    "        game_type = driver.find_element(By.XPATH, '//*[@id=\"mainbody\"]/div[2]/div/div[1]/div[2]/ng-include/div/div/ui-view/ui-view/div/overview-module/description-module/div/div[2]/div/div[1]/classifications-module/div/div[2]/ul/li[1]/div[2]').text\n",
    "        \n",
    "        mech_list = [2,3,4,5,6]\n",
    "        mech_datlist = []\n",
    "        \n",
    "        for idx in mech_list:\n",
    "            mech_path = f'//*[@id=\"mainbody\"]/div[2]/div/div[1]/div[2]/ng-include/div/div/ui-view/ui-view/div/overview-module/description-module/div/div[2]/div/div[1]/classifications-module/div/div[2]/ul/li[3]/div[2]/popup-list/span[{idx}]/a'\n",
    "            try:\n",
    "                mech = driver.find_element(By.XPATH, mech_path).text\n",
    "            except NoSuchElementException:\n",
    "                mech = None\n",
    "            \n",
    "            mech_datlist.append(mech)\n",
    "            \n",
    "        \n",
    "        \n",
    "        datlist = [name, published_year , bgg_rank, plyr, plyt, recc_age, weight, game_type]\n",
    "        datlist = datlist + mech_datlist\n",
    "        \n",
    "        all_datlist.append(datlist)\n",
    "        driver = webdriver.Chrome()\n",
    "        \n",
    "    return all_datlist"
   ]
  },
  {
   "cell_type": "markdown",
   "id": "c9400ab7",
   "metadata": {},
   "source": [
    "# 문제점\n",
    "- XPATH가 바뀌었다!"
   ]
  },
  {
   "cell_type": "code",
   "execution_count": 30,
   "id": "f8438679",
   "metadata": {},
   "outputs": [],
   "source": [
    "def getInfo(datlist):\n",
    "    all_datlist = []\n",
    "    driver = webdriver.Chrome()\n",
    "    wait = WebDriverWait(driver, 10)\n",
    "    \n",
    "    for link in datlist:\n",
    "        try:\n",
    "            url = f'https://boardgamegeek.com/{link}'\n",
    "            driver.get(url)\n",
    "            time.sleep(2) # 요청 간 딜레이 추가\n",
    "            \n",
    "            # 명시적 대기 추가 및 XPath 단순화\n",
    "            bgg_rank = wait.until(EC.presence_of_element_located((By.XPATH, \"//overall-rating//span[1]\"))).text\n",
    "            name = wait.until(EC.presence_of_element_located((By.XPATH, \"//div[contains(@class,'game-header')]//h1/a\"))).text\n",
    "            published_year = wait.until(EC.presence_of_element_located((By.XPATH, \"//div[contains(@class,'game-header')]//span\"))).text\n",
    "            \n",
    "            gameplay = wait.until(EC.presence_of_element_located((By.XPATH, \"//gameplay-module\")))\n",
    "            plyr = gameplay.find_element(By.XPATH, \".//ul/li[1]/div[1]\").text\n",
    "            plyt = gameplay.find_element(By.XPATH, \".//ul/li[2]/div[1]\").text\n",
    "            recc_age = gameplay.find_element(By.XPATH, \".//ul/li[3]/div[1]\").text\n",
    "            weight = gameplay.find_element(By.XPATH, \".//ul/li[4]/div[1]/span[2]/span[1]\").text\n",
    "            \n",
    "            game_type = wait.until(EC.presence_of_element_located((By.XPATH, \"//classifications-module//li[1]/div[2]\"))).text\n",
    "            \n",
    "            mech_list = [2,3,4,5,6]\n",
    "            mech_datlist = []\n",
    "            \n",
    "            for idx in mech_list:\n",
    "                try:\n",
    "                    mech_path = f\"//classifications-module//li[3]//popup-list/span[{idx}]/a\"\n",
    "                    mech = wait.until(EC.presence_of_element_located((By.XPATH, mech_path))).text\n",
    "                except (NoSuchElementException, TimeoutException):\n",
    "                    mech = None\n",
    "                mech_datlist.append(mech)\n",
    "            \n",
    "            datlist = [name, published_year, bgg_rank, plyr, plyt, recc_age, weight, game_type]\n",
    "            datlist.extend(mech_datlist)\n",
    "            all_datlist.append(datlist)\n",
    "            \n",
    "        except Exception as e:\n",
    "            print(f\"Error processing {link}: {str(e)}\")\n",
    "            continue\n",
    "            \n",
    "    driver.quit()\n",
    "    return all_datlist"
   ]
  },
  {
   "cell_type": "code",
   "execution_count": 24,
   "id": "2a9890c7",
   "metadata": {},
   "outputs": [
    {
     "data": {
      "text/plain": [
       "['/boardgame/224517/brass-birmingham',\n",
       " '/boardgame/161936/pandemic-legacy-season-1',\n",
       " '/boardgame/174430/gloomhaven']"
      ]
     },
     "execution_count": 24,
     "metadata": {},
     "output_type": "execute_result"
    }
   ],
   "source": [
    "test = list(link_list[:3])\n",
    "test"
   ]
  },
  {
   "cell_type": "code",
   "execution_count": 33,
   "id": "d0a502e1",
   "metadata": {},
   "outputs": [
    {
     "name": "stdout",
     "output_type": "stream",
     "text": [
      "Error processing /boardgame/224517/brass-birmingham: Message: \n",
      "Stacktrace:\n",
      "\tGetHandleVerifier [0x00007FF7646E38A5+3004357]\n",
      "\t(No symbol) [0x00007FF764379970]\n",
      "\t(No symbol) [0x00007FF76422582A]\n",
      "\t(No symbol) [0x00007FF764275B8E]\n",
      "\t(No symbol) [0x00007FF764275E7C]\n",
      "\t(No symbol) [0x00007FF7642BEC27]\n",
      "\t(No symbol) [0x00007FF76429BC1F]\n",
      "\t(No symbol) [0x00007FF7642BBA4C]\n",
      "\t(No symbol) [0x00007FF76429B983]\n",
      "\t(No symbol) [0x00007FF764267628]\n",
      "\t(No symbol) [0x00007FF764268791]\n",
      "\tGetHandleVerifier [0x00007FF76470A00D+3161901]\n",
      "\tGetHandleVerifier [0x00007FF76475E060+3506048]\n",
      "\tGetHandleVerifier [0x00007FF76475400D+3465005]\n",
      "\tGetHandleVerifier [0x00007FF7644D0EEB+830987]\n",
      "\t(No symbol) [0x00007FF76438467F]\n",
      "\t(No symbol) [0x00007FF7643809D4]\n",
      "\t(No symbol) [0x00007FF764380B6D]\n",
      "\t(No symbol) [0x00007FF764370149]\n",
      "\tBaseThreadInitThunk [0x00007FFD3558257D+29]\n",
      "\tRtlUserThreadStart [0x00007FFD3770AF08+40]\n",
      "\n",
      "Error processing /boardgame/161936/pandemic-legacy-season-1: Message: no such window: target window already closed\n",
      "from unknown error: web view not found\n",
      "  (Session info: chrome=130.0.6723.119)\n",
      "Stacktrace:\n",
      "\tGetHandleVerifier [0x00007FF7646E38A5+3004357]\n",
      "\t(No symbol) [0x00007FF764379970]\n",
      "\t(No symbol) [0x00007FF76422582A]\n",
      "\t(No symbol) [0x00007FF7641FFA75]\n",
      "\t(No symbol) [0x00007FF7642A2C77]\n",
      "\t(No symbol) [0x00007FF7642BB351]\n",
      "\t(No symbol) [0x00007FF76429B983]\n",
      "\t(No symbol) [0x00007FF764267628]\n",
      "\t(No symbol) [0x00007FF764268791]\n",
      "\tGetHandleVerifier [0x00007FF76470A00D+3161901]\n",
      "\tGetHandleVerifier [0x00007FF76475E060+3506048]\n",
      "\tGetHandleVerifier [0x00007FF76475400D+3465005]\n",
      "\tGetHandleVerifier [0x00007FF7644D0EEB+830987]\n",
      "\t(No symbol) [0x00007FF76438467F]\n",
      "\t(No symbol) [0x00007FF7643809D4]\n",
      "\t(No symbol) [0x00007FF764380B6D]\n",
      "\t(No symbol) [0x00007FF764370149]\n",
      "\tBaseThreadInitThunk [0x00007FFD3558257D+29]\n",
      "\tRtlUserThreadStart [0x00007FFD3770AF08+40]\n",
      "\n",
      "Error processing /boardgame/174430/gloomhaven: Message: no such window: target window already closed\n",
      "from unknown error: web view not found\n",
      "  (Session info: chrome=130.0.6723.119)\n",
      "Stacktrace:\n",
      "\tGetHandleVerifier [0x00007FF7646E38A5+3004357]\n",
      "\t(No symbol) [0x00007FF764379970]\n",
      "\t(No symbol) [0x00007FF76422582A]\n",
      "\t(No symbol) [0x00007FF7641FFA75]\n",
      "\t(No symbol) [0x00007FF7642A2C77]\n",
      "\t(No symbol) [0x00007FF7642BB351]\n",
      "\t(No symbol) [0x00007FF76429B983]\n",
      "\t(No symbol) [0x00007FF764267628]\n",
      "\t(No symbol) [0x00007FF764268791]\n",
      "\tGetHandleVerifier [0x00007FF76470A00D+3161901]\n",
      "\tGetHandleVerifier [0x00007FF76475E060+3506048]\n",
      "\tGetHandleVerifier [0x00007FF76475400D+3465005]\n",
      "\tGetHandleVerifier [0x00007FF7644D0EEB+830987]\n",
      "\t(No symbol) [0x00007FF76438467F]\n",
      "\t(No symbol) [0x00007FF7643809D4]\n",
      "\t(No symbol) [0x00007FF764380B6D]\n",
      "\t(No symbol) [0x00007FF764370149]\n",
      "\tBaseThreadInitThunk [0x00007FFD3558257D+29]\n",
      "\tRtlUserThreadStart [0x00007FFD3770AF08+40]\n",
      "\n"
     ]
    },
    {
     "data": {
      "text/plain": [
       "[]"
      ]
     },
     "execution_count": 33,
     "metadata": {},
     "output_type": "execute_result"
    }
   ],
   "source": [
    "test_dfs = getInfo(test)\n",
    "test_dfs"
   ]
  },
  {
   "cell_type": "code",
   "execution_count": 9,
   "id": "04143c22",
   "metadata": {},
   "outputs": [],
   "source": [
    "# 더럽게 오래 걸리니까 100개씩 끊어서 만드는게 나을거 같다.\n",
    "dfs_1 = getInfo(link_list[0:500])"
   ]
  },
  {
   "cell_type": "code",
   "execution_count": 15,
   "id": "a875265c",
   "metadata": {},
   "outputs": [],
   "source": [
    "dfs_2 = getInfo(link_list[100:200])"
   ]
  },
  {
   "cell_type": "code",
   "execution_count": 12,
   "id": "f00bd949",
   "metadata": {},
   "outputs": [],
   "source": [
    "dfs_3 = getInfo(link_list[200:300])"
   ]
  },
  {
   "cell_type": "code",
   "execution_count": 15,
   "id": "006b4eed",
   "metadata": {},
   "outputs": [],
   "source": [
    "dfs_4 = getInfo(link_list[300:400])"
   ]
  },
  {
   "cell_type": "code",
   "execution_count": 21,
   "id": "5d2257ad",
   "metadata": {},
   "outputs": [],
   "source": [
    "dfs_5 = getInfo(link_list[400:500])"
   ]
  },
  {
   "cell_type": "code",
   "execution_count": null,
   "id": "8a7163a6",
   "metadata": {},
   "outputs": [],
   "source": [
    "lest_dfs = getInfo(link_list[500:1001])"
   ]
  },
  {
   "cell_type": "code",
   "execution_count": 16,
   "id": "aa6bf45f",
   "metadata": {},
   "outputs": [],
   "source": [
    "import pandas as pd\n",
    "tmp = dfs_1 + lest_dfs\n",
    "tmp = pd.DataFrame(tmp)"
   ]
  },
  {
   "cell_type": "code",
   "execution_count": 17,
   "id": "0e38eb12",
   "metadata": {},
   "outputs": [],
   "source": [
    "tmp.to_csv('bgg_1000_data.csv', index=True)"
   ]
  },
  {
   "cell_type": "code",
   "execution_count": null,
   "id": "f5f10670",
   "metadata": {},
   "outputs": [],
   "source": [
    "dfs_5"
   ]
  },
  {
   "cell_type": "code",
   "execution_count": 14,
   "id": "9791fb0f",
   "metadata": {},
   "outputs": [],
   "source": [
    "lest_dfs = getInfo(link_list[500:1001])"
   ]
  },
  {
   "cell_type": "code",
   "execution_count": null,
   "id": "59a2e570",
   "metadata": {},
   "outputs": [],
   "source": [
    "pd.DataFrame(tmp)"
   ]
  },
  {
   "cell_type": "code",
   "execution_count": null,
   "id": "5f2b7f27",
   "metadata": {},
   "outputs": [],
   "source": []
  }
 ],
 "metadata": {
  "kernelspec": {
   "display_name": "Python 3 (ipykernel)",
   "language": "python",
   "name": "python3"
  },
  "language_info": {
   "codemirror_mode": {
    "name": "ipython",
    "version": 3
   },
   "file_extension": ".py",
   "mimetype": "text/x-python",
   "name": "python",
   "nbconvert_exporter": "python",
   "pygments_lexer": "ipython3",
   "version": "3.12.7"
  }
 },
 "nbformat": 4,
 "nbformat_minor": 5
}
